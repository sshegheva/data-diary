{
 "cells": [
  {
   "cell_type": "markdown",
   "metadata": {},
   "source": [
    "## Origami Analytics - the Techniques of Data Folding"
   ]
  },
  {
   "cell_type": "markdown",
   "metadata": {},
   "source": [
    "The beatiful art of _Origami_ originates in Japan in the early 17th Century during the Edo Period, and it literally means folding (_ori_) the paper (_kami_). A few basic rules of origami transforms a plane sheet of paper into a pretty shape capable of telling a story. "
   ]
  },
  {
   "cell_type": "markdown",
   "metadata": {},
   "source": [
    "<img src=\"../figures/data_origami.jpg\"/>"
   ]
  },
  {
   "cell_type": "markdown",
   "metadata": {},
   "source": [
    "Storytelling with data is similarly an artistic endeavor. Understanding how to fold, flip, squash and twist is a necessary skill for an aspiring data scientist, and in this short (thankfully) blog post we will demonstrate a few basic techniques to unravel a story from your data.\n",
    "\n",
    "We are going to practice \"folding\" using the recent Kaggle survey's data which you can download here https://www.kaggle.com/kaggle/kaggle-survey-2017. It is an interesting dataset because it tells stories about the state of Data Science as told by us all. On my quest to becoming a Data Scientist I frequently found myself asking the same two questions:\n",
    "\n",
    "- Was my then title as a Software Engineer in a data centric team sufficiently describing my role?\n",
    "- Is a Doctoral degree required to switch your career to a Data Scientist?\n",
    "\n",
    "Numerious answers that I have received convinced me that there was no correct solution, but rather opinions based on individuals' experiences. Thus, my exciting journey began ...  \n",
    "\n",
    "Let's take a glimpse into the Kaggle's survey data to see how these two questions are perceived by the Data Science community!"
   ]
  },
  {
   "cell_type": "markdown",
   "metadata": {},
   "source": [
    "Here you are going to learn how to:\n",
    "\n",
    "- re-shape your data with _stacking_ and _unstacking_\n",
    "- transform your data with the _split-apply-combine_ philosophy \n",
    "- deal with missing data, handling NaN and Laplace smoothing \n",
    "- interpret three visualization techniques: heatmaps, stacked bar charts and a kernel density estimations\n"
   ]
  },
  {
   "cell_type": "code",
   "execution_count": 3,
   "metadata": {},
   "outputs": [],
   "source": [
    "import pandas as pd\n",
    "import numpy as np\n",
    "import seaborn as sns\n",
    "import matplotlib.pyplot as plt\n",
    "\n",
    "%matplotlib inline"
   ]
  },
  {
   "cell_type": "code",
   "execution_count": 4,
   "metadata": {},
   "outputs": [],
   "source": [
    "# download the data file from https://www.kaggle.com/kaggle/kaggle-survey-2017\n",
    "data_file = 'multipleChoiceResponses.csv'"
   ]
  },
  {
   "cell_type": "code",
   "execution_count": 5,
   "metadata": {},
   "outputs": [
    {
     "name": "stderr",
     "output_type": "stream",
     "text": [
      "/Users/snejana/anaconda3/lib/python3.6/site-packages/IPython/core/interactiveshell.py:2728: DtypeWarning: Columns (31,83,86,87,98,99,109,116,123,124,127,129,130,164) have mixed types. Specify dtype option on import or set low_memory=False.\n",
      "  interactivity=interactivity, compiler=compiler, result=result)\n"
     ]
    }
   ],
   "source": [
    "df = pd.read_csv(data_file, encoding='latin-1')"
   ]
  },
  {
   "cell_type": "markdown",
   "metadata": {},
   "source": [
    "After quick browsing through the schema, I selected five features most pertinent to my questions.\n",
    "\n",
    "- Formal Education - Which level of formal education have you attained?\n",
    "- Major Select - Which best describes your undergraduate major?\n",
    "- CodeWriter - Do you write code to analyze data in your current job?\n",
    "- CurrentJobTitleSelect - Select the option that's most similar to your current job/professional title\n",
    "- TitleFit - How adequately do you feel your title describes what you do"
   ]
  },
  {
   "cell_type": "code",
   "execution_count": 6,
   "metadata": {},
   "outputs": [],
   "source": [
    "df = df[[ \"FormalEducation\" ,\"MajorSelect\", \"CodeWriter\" ,\"CurrentJobTitleSelect\", \"TitleFit\"]]"
   ]
  },
  {
   "cell_type": "code",
   "execution_count": 7,
   "metadata": {},
   "outputs": [
    {
     "data": {
      "text/plain": [
       "(16716, 5)"
      ]
     },
     "execution_count": 7,
     "metadata": {},
     "output_type": "execute_result"
    }
   ],
   "source": [
    "df.shape"
   ]
  },
  {
   "cell_type": "markdown",
   "metadata": {},
   "source": [
    "Our dataset size, is still unwieldy, even if we slice a small set of features from it. So, let's get folding...  "
   ]
  },
  {
   "cell_type": "markdown",
   "metadata": {},
   "source": [
    "#### Data Folding and Unfolding\n",
    "\n",
    "In origami, _folding_ the sheet of paper relates to creating layers by lining up some edges or corners. Likewise, in data folding, we are going to align four of the features againts the fifth one, TitleFit, by _grouping_, _counting_ and _unstacking_ our data to flatten the _TitleFit_ categories.   \n",
    "\n",
    "Steps:\n",
    "\n",
    "- Group features by their nominals\n",
    "- Count the frequency of TitleFit responses in each group\n",
    "- Re-shape the dataframe by unstacking the TitleFit feature\n",
    "\n",
    "Note: In addition to folding and unfolding, we also performed a simple data _imputation_ step by replacing all the missing values with zeros (in our case, the NaN were marking no records for a particular combination)"
   ]
  },
  {
   "cell_type": "code",
   "execution_count": 8,
   "metadata": {},
   "outputs": [],
   "source": [
    "fold_title_df = df.groupby([\"CurrentJobTitleSelect\",\n",
    "                            \"FormalEducation\",\n",
    "                            \"MajorSelect\",\n",
    "                            \"CodeWriter\"])[\"TitleFit\"].value_counts()\\\n",
    "                                                      .to_frame()\\\n",
    "                                                      .unstack(\"TitleFit\")\\\n",
    "                                                      .fillna(0)\n",
    "# organize the column names by dropping the top level hierarchy\n",
    "fold_title_df.columns = fold_title_df.columns.get_level_values(1)"
   ]
  },
  {
   "cell_type": "markdown",
   "metadata": {},
   "source": [
    "The snippet of the resulting dataframe shows the mapping between each group of the responses with the frequency of the _TitleFit_ choices."
   ]
  },
  {
   "cell_type": "code",
   "execution_count": 9,
   "metadata": {},
   "outputs": [
    {
     "data": {
      "text/html": [
       "<div>\n",
       "<style scoped>\n",
       "    .dataframe tbody tr th:only-of-type {\n",
       "        vertical-align: middle;\n",
       "    }\n",
       "\n",
       "    .dataframe tbody tr th {\n",
       "        vertical-align: top;\n",
       "    }\n",
       "\n",
       "    .dataframe thead th {\n",
       "        text-align: right;\n",
       "    }\n",
       "</style>\n",
       "<table border=\"1\" class=\"dataframe\">\n",
       "  <thead>\n",
       "    <tr style=\"text-align: right;\">\n",
       "      <th></th>\n",
       "      <th></th>\n",
       "      <th></th>\n",
       "      <th>TitleFit</th>\n",
       "      <th>Fine</th>\n",
       "      <th>Perfectly</th>\n",
       "      <th>Poorly</th>\n",
       "    </tr>\n",
       "    <tr>\n",
       "      <th>CurrentJobTitleSelect</th>\n",
       "      <th>FormalEducation</th>\n",
       "      <th>MajorSelect</th>\n",
       "      <th>CodeWriter</th>\n",
       "      <th></th>\n",
       "      <th></th>\n",
       "      <th></th>\n",
       "    </tr>\n",
       "  </thead>\n",
       "  <tbody>\n",
       "    <tr>\n",
       "      <th rowspan=\"5\" valign=\"top\">Business Analyst</th>\n",
       "      <th rowspan=\"5\" valign=\"top\">Bachelor's degree</th>\n",
       "      <th rowspan=\"2\" valign=\"top\">A health science</th>\n",
       "      <th>No</th>\n",
       "      <td>1.0</td>\n",
       "      <td>0.0</td>\n",
       "      <td>0.0</td>\n",
       "    </tr>\n",
       "    <tr>\n",
       "      <th>Yes</th>\n",
       "      <td>3.0</td>\n",
       "      <td>0.0</td>\n",
       "      <td>0.0</td>\n",
       "    </tr>\n",
       "    <tr>\n",
       "      <th rowspan=\"2\" valign=\"top\">A humanities discipline</th>\n",
       "      <th>No</th>\n",
       "      <td>1.0</td>\n",
       "      <td>0.0</td>\n",
       "      <td>0.0</td>\n",
       "    </tr>\n",
       "    <tr>\n",
       "      <th>Yes</th>\n",
       "      <td>3.0</td>\n",
       "      <td>0.0</td>\n",
       "      <td>1.0</td>\n",
       "    </tr>\n",
       "    <tr>\n",
       "      <th>A social science</th>\n",
       "      <th>No</th>\n",
       "      <td>4.0</td>\n",
       "      <td>1.0</td>\n",
       "      <td>0.0</td>\n",
       "    </tr>\n",
       "  </tbody>\n",
       "</table>\n",
       "</div>"
      ],
      "text/plain": [
       "TitleFit                                                                    Fine  \\\n",
       "CurrentJobTitleSelect FormalEducation   MajorSelect             CodeWriter         \n",
       "Business Analyst      Bachelor's degree A health science        No           1.0   \n",
       "                                                                Yes          3.0   \n",
       "                                        A humanities discipline No           1.0   \n",
       "                                                                Yes          3.0   \n",
       "                                        A social science        No           4.0   \n",
       "\n",
       "TitleFit                                                                    Perfectly  \\\n",
       "CurrentJobTitleSelect FormalEducation   MajorSelect             CodeWriter              \n",
       "Business Analyst      Bachelor's degree A health science        No                0.0   \n",
       "                                                                Yes               0.0   \n",
       "                                        A humanities discipline No                0.0   \n",
       "                                                                Yes               0.0   \n",
       "                                        A social science        No                1.0   \n",
       "\n",
       "TitleFit                                                                    Poorly  \n",
       "CurrentJobTitleSelect FormalEducation   MajorSelect             CodeWriter          \n",
       "Business Analyst      Bachelor's degree A health science        No             0.0  \n",
       "                                                                Yes            0.0  \n",
       "                                        A humanities discipline No             0.0  \n",
       "                                                                Yes            1.0  \n",
       "                                        A social science        No             0.0  "
      ]
     },
     "execution_count": 9,
     "metadata": {},
     "output_type": "execute_result"
    }
   ],
   "source": [
    "fold_title_df.head()"
   ]
  },
  {
   "cell_type": "markdown",
   "metadata": {},
   "source": [
    "### Observation Squashing\n",
    "\n",
    "We can flatten the degree of the TitleFit observations by transforming the frequencies of the feature into an aggregated _satisfaction_ score. Let's compute the satisfaction as:\n",
    "\n",
    "$$Satisfaction = \\frac{2 \\cdot f(perfectly) + 1 \\cdot f(Fine)} {f(Poorly) + 1} $$\n",
    "\n",
    "There is no particular \"science\" behind the formula besides the detail that we want a high score where the frequency of \"Perfect\" fit is high and a low score where \"Poor\" fit observations dominate. Also notice, we added 1 to the denominator as a form of smoothing, i.e. we will assume that we have at least one record of a \"Poor\" fit responce in the given group.\n",
    "\n",
    "Steps:\n",
    "\n",
    "- Define the squashing function \n",
    "- Apply the function to each row (specified by _axis=1_ argument in the _lambda_ transformation)\n",
    "- Drop the _raw_ features "
   ]
  },
  {
   "cell_type": "code",
   "execution_count": 10,
   "metadata": {},
   "outputs": [],
   "source": [
    "def job_satisfaction(row):\n",
    "    return (2.* row[\"Perfectly\"] + row[\"Fine\"]) / (row[\"Poorly\"] + 1)\n",
    "\n",
    "fold_title_df[\"Satisfaction\"] = fold_title_df.apply(lambda row: job_satisfaction(row), axis=1)\n",
    "fold_title_df.drop([\"Fine\", \"Perfectly\", \"Poorly\"], axis=1, inplace=True)"
   ]
  },
  {
   "cell_type": "markdown",
   "metadata": {},
   "source": [
    "### Repeat Folding and Squashing\n",
    "\n",
    "We are going to repeat the same steps for other features until our data takes the desired shape. \n",
    "\n",
    "Let's _fold in_ the feature for _CodeWriter_. For _squashing_ the _CodeWriter_ frequencies, we choose a simple \"Yes\" to \"No\" ratio (again with basic data imputation and smoothing). __It is critical to keep in mind what is the correct interpretation of the resulting number__. Since the outcome of this computation is a consequence of __prior folding__ the the TitleFit, we cannot say \"Yes\" to \"No\" ratio simply counts the frequencies within the groups of responders with the corresponding answers. Here, the ratio captures the _Satisfaction_ differences between the groups of code writers and those who do not write code."
   ]
  },
  {
   "cell_type": "code",
   "execution_count": 11,
   "metadata": {},
   "outputs": [],
   "source": [
    "fold_code_df = fold_title_df[\"Satisfaction\"].unstack(\"CodeWriter\").fillna(0)"
   ]
  },
  {
   "cell_type": "code",
   "execution_count": 12,
   "metadata": {},
   "outputs": [],
   "source": [
    "# add 1 to the denominator as a smoothing to avoid devision by zero\n",
    "fold_code_df[\"YesNoRatio\"] = (fold_code_df[\"Yes\"]) / (fold_code_df[\"No\"] + 1)"
   ]
  },
  {
   "cell_type": "markdown",
   "metadata": {},
   "source": [
    "Next, we _fold_ the _MajorSelect_ and the _squash_ it with a simple average of satisfaction differences across available majors. It is up to your imagination of how to fold and squash, and it ultimately depends on what story wish wish to tell. __A different fold will lead to entirely different narrative__. Our case of averaging leaves room for more rigor, i.e. how are missing values treated, and are all majors considered equal. However, for the purpose of this demonstration we are going to allow some sloppiness."
   ]
  },
  {
   "cell_type": "code",
   "execution_count": 13,
   "metadata": {},
   "outputs": [],
   "source": [
    "# do not impute the missing values to zeros here\n",
    "fold_major_df = fold_code_df[\"YesNoRatio\"].unstack(\"MajorSelect\")"
   ]
  },
  {
   "cell_type": "code",
   "execution_count": 14,
   "metadata": {},
   "outputs": [],
   "source": [
    "fold_major_df[\"MajorAverage\"] = fold_major_df.mean(axis=1)"
   ]
  },
  {
   "cell_type": "markdown",
   "metadata": {},
   "source": [
    "Finally, let's _unstack_ the _FormalEducation_. Here, we did some data \"massaging\" to remove the irrelevant to our story choices, and the shorten some the label responses."
   ]
  },
  {
   "cell_type": "code",
   "execution_count": 15,
   "metadata": {},
   "outputs": [],
   "source": [
    "fold_edu_df = fold_major_df[\"MajorAverage\"].unstack(\"FormalEducation\")\n",
    "fold_edu_df.drop(\"I prefer not to answer\", axis=1, inplace=True)\n",
    "fold_edu_df.rename(columns={\"Some college/university study without earning a bachelor's degree\": \"Partial degree\"}, \n",
    "                   inplace=True)"
   ]
  },
  {
   "cell_type": "markdown",
   "metadata": {},
   "source": [
    "We also introduce an auxiliary variable, _AverageRatio_ just for ordering the dataframe."
   ]
  },
  {
   "cell_type": "code",
   "execution_count": 16,
   "metadata": {},
   "outputs": [],
   "source": [
    "fold_edu_df[\"AverageRatio\"] = fold_edu_df.mean(axis=1)\n",
    "fold_df = fold_edu_df.sort_values(\"AverageRatio\", ascending=False).drop([\"AverageRatio\"], axis=1)"
   ]
  },
  {
   "cell_type": "markdown",
   "metadata": {},
   "source": [
    "We created multiple folds of our data by aligning and collapsing extra dimensions of the data so as to represent the minimal structure that captures the story we are after. Below we plot a matrix with varied color intensity cell to show the data preference to gravitate towards certain segments.\n",
    "\n",
    "The Story:\n",
    "\n",
    "- To no surprise the participants holding the position of a Data Scientist, are more likely to report an overall satisfaction with their title. This position remains consistent across different levels of Formal Education, such as Bachelor's, Doctoral, Master's or even a Partial Degree. \n",
    "- Clearly _there are_ Data Scientists with just a Bachelor's degree, and their _happiness_ with their job titles shows in the most intense color.\n",
    "- It also pays to study for your Doctoral Degree. Are PhD's more likely to land on a position that fits their work activity, or they just less concerned with the titles? This seems to be a question for another story."
   ]
  },
  {
   "cell_type": "code",
   "execution_count": 17,
   "metadata": {},
   "outputs": [
    {
     "data": {
      "image/png": "[encoded data removed]",
      "text/plain": [
       "<matplotlib.figure.Figure at 0x105c84208>"
      ]
     },
     "metadata": {},
     "output_type": "display_data"
    }
   ],
   "source": [
    "plt.figure(figsize=(10,6))\n",
    "sns.heatmap(fold_df, cmap=\"YlGnBu\");"
   ]
  },
  {
   "cell_type": "markdown",
   "metadata": {},
   "source": [
    "### Rotating and Twisting\n",
    "\n",
    "Flip is one the simplest operation in origami - all it means is that we want to view the artifact from a different angle. The affiliated move to rotations in data transformations is a _transpose_ operation. This means that what was defined as variable becomes an observation and vice versa. The _transpose_ operation does not the data quantatatively, and here, is used more for convenience for applying the subsequent operations. \n",
    "\n",
    "Steps:\n",
    "\n",
    "- Transpose the initial data\n",
    "- Re-shape the data by stacking the new varibles into a hierarchical representation. This operation is commonly known as _turning the wide data into the long data_"
   ]
  },
  {
   "cell_type": "code",
   "execution_count": 18,
   "metadata": {},
   "outputs": [],
   "source": [
    "fold_edu_df_t = fold_edu_df.T"
   ]
  },
  {
   "cell_type": "code",
   "execution_count": 19,
   "metadata": {},
   "outputs": [],
   "source": [
    "fold_edu_df_stacked = fold_edu_df_t.stack().to_frame().reset_index()\n",
    "fold_edu_df_stacked.columns = [\"FormalEducation\", \"CurrentJobTitleSelect\", \"AverageSatisfaction\"]"
   ]
  },
  {
   "cell_type": "markdown",
   "metadata": {},
   "source": [
    "A different angle-fold on the same data offers a comparison between groups with a focus on their extremes, densities and overall spreads. Making interpretation on the meaning of the differences is out of scope for this exploration (we leave this to the readers). Our emphasis lies on the ability to wrangle data in such way as to eventually produce a clear visual artifact that persuades us to make a decision that is supported by a sufficient understanding of the data."
   ]
  },
  {
   "cell_type": "code",
   "execution_count": 20,
   "metadata": {},
   "outputs": [
    {
     "data": {
      "image/png": "[encoded data removed]",
      "text/plain": [
       "<matplotlib.figure.Figure at 0x1a0bb20208>"
      ]
     },
     "metadata": {},
     "output_type": "display_data"
    }
   ],
   "source": [
    "plt.figure(figsize=(10,6))\n",
    "sns.violinplot(x=\"FormalEducation\", y=\"AverageSatisfaction\", data=fold_edu_df_stacked);"
   ]
  },
  {
   "cell_type": "markdown",
   "metadata": {},
   "source": [
    "### Conclusions\n",
    "\n",
    "The art of _Origami_ allows experimenting with a paper and discovering new shapes through various manipulations. The quest of storytelling is very much alike - by wrangling data we discover, visualize, make conjectores, surface evidences, and construct our versions of narratives. "
   ]
  },
  {
   "cell_type": "markdown",
   "metadata": {},
   "source": [
    "### References\n",
    "\n",
    "Nothing here yet..."
   ]
  },
  {
   "cell_type": "code",
   "execution_count": 21,
   "metadata": {},
   "outputs": [
    {
     "data": {
      "text/html": [
       "<style>\n",
       "    @font-face {\n",
       "        font-family: \"Computer Modern\";\n",
       "        src: url('http://9dbb143991406a7c655e-aa5fcb0a5a4ec34cff238a2d56ca4144.r56.cf5.rackcdn.com/cmunss.otf');\n",
       "    }\n",
       "    @font-face {\n",
       "        font-family: \"Computer Modern\";\n",
       "        font-weight: bold;\n",
       "        src: url('http://9dbb143991406a7c655e-aa5fcb0a5a4ec34cff238a2d56ca4144.r56.cf5.rackcdn.com/cmunsx.otf');\n",
       "    }\n",
       "    @font-face {\n",
       "        font-family: \"Computer Modern\";\n",
       "        font-style: oblique;\n",
       "        src: url('http://9dbb143991406a7c655e-aa5fcb0a5a4ec34cff238a2d56ca4144.r56.cf5.rackcdn.com/cmunsi.otf');\n",
       "    }\n",
       "    @font-face {\n",
       "        font-family: \"Computer Modern\";\n",
       "        font-weight: bold;\n",
       "        font-style: oblique;\n",
       "        src: url('http://9dbb143991406a7c655e-aa5fcb0a5a4ec34cff238a2d56ca4144.r56.cf5.rackcdn.com/cmunso.otf');\n",
       "    }\n",
       "    div.cell{\n",
       "        width:800px;\n",
       "        margin-left:16% !important;\n",
       "        margin-right:auto;\n",
       "    }\n",
       "    h1 {\n",
       "        font-family: Helvetica, serif;\n",
       "    }\n",
       "    h4{\n",
       "        margin-top:12px;\n",
       "        margin-bottom: 3px;\n",
       "       }\n",
       "    div.text_cell_render{\n",
       "        font-family: Computer Modern, \"Helvetica Neue\", Arial, Helvetica, Geneva, sans-serif;\n",
       "        line-height: 145%;\n",
       "        font-size: 130%;\n",
       "        width:800px;\n",
       "        margin-left:auto;\n",
       "        margin-right:auto;\n",
       "    }\n",
       "    .CodeMirror{\n",
       "            font-family: \"Source Code Pro\", source-code-pro,Consolas, monospace;\n",
       "    }\n",
       "    .prompt{\n",
       "        display: None;\n",
       "    }\n",
       "    .text_cell_render h5 {\n",
       "        font-weight: 300;\n",
       "        font-size: 22pt;\n",
       "        color: #4057A1;\n",
       "        font-style: italic;\n",
       "        margin-bottom: .5em;\n",
       "        margin-top: 0.5em;\n",
       "        display: block;\n",
       "    }\n",
       "\n",
       "    .warning{\n",
       "        color: rgb( 240, 20, 20 )\n",
       "        }\n",
       "</style>\n",
       "<script>\n",
       "    MathJax.Hub.Config({\n",
       "                        TeX: {\n",
       "                           extensions: [\"AMSmath.js\"]\n",
       "                           },\n",
       "                tex2jax: {\n",
       "                    inlineMath: [ ['$','$'], [\"\\\\(\",\"\\\\)\"] ],\n",
       "                    displayMath: [ ['$$','$$'], [\"\\\\[\",\"\\\\]\"] ]\n",
       "                },\n",
       "                displayAlign: 'center', // Change this to 'center' to center equations.\n",
       "                \"HTML-CSS\": {\n",
       "                    styles: {'.MathJax_Display': {\"margin\": 4}}\n",
       "                }\n",
       "        });\n",
       "</script>"
      ],
      "text/plain": [
       "<IPython.core.display.HTML object>"
      ]
     },
     "execution_count": 21,
     "metadata": {},
     "output_type": "execute_result"
    }
   ],
   "source": [
    "from IPython.core.display import HTML\n",
    "def css_styling():\n",
    "    styles = open(\"../styles/custom.css\", \"r\").read()\n",
    "    return HTML(styles)\n",
    "css_styling()"
   ]
  },
  {
   "cell_type": "code",
   "execution_count": null,
   "metadata": {},
   "outputs": [],
   "source": []
  }
 ],
 "metadata": {
  "kernelspec": {
   "display_name": "Python 3",
   "language": "python",
   "name": "python3"
  },
  "language_info": {
   "codemirror_mode": {
    "name": "ipython",
    "version": 3
   },
   "file_extension": ".py",
   "mimetype": "text/x-python",
   "name": "python",
   "nbconvert_exporter": "python",
   "pygments_lexer": "ipython3",
   "version": "3.6.3"
  }
 },
 "nbformat": 4,
 "nbformat_minor": 2
}
